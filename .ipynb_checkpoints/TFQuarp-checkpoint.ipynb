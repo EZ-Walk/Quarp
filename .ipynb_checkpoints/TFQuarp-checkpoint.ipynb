{
 "cells": [
  {
   "cell_type": "code",
   "execution_count": 21,
   "metadata": {
    "Collapsed": "false"
   },
   "outputs": [],
   "source": [
    "import tensorflow as tf\n",
    "import pandas as pd\n",
    "from tensorflow.keras.preprocessing.text import Tokenizer\n",
    "from tensorflow.keras.preprocessing.sequence import pad_sequences"
   ]
  },
  {
   "cell_type": "code",
   "execution_count": 104,
   "metadata": {
    "Collapsed": "false"
   },
   "outputs": [
    {
     "name": "stdout",
     "output_type": "stream",
     "text": [
      "Responses in texts: 1189\n",
      "Responses in btexts: 15\n"
     ]
    },
    {
     "data": {
      "text/plain": [
       "1189"
      ]
     },
     "execution_count": 104,
     "metadata": {},
     "output_type": "execute_result"
    }
   ],
   "source": [
    "df = pd.read_csv('DemoPnmList.csv')\n",
    "col = list(df['Clubs, athletics, and activities participated in during high school & college'])\n",
    "\n",
    "bdf = pd.read_csv('DemoBrotherList.csv')\n",
    "bcol = list(bdf['Clubs, athletics, and hobbies participated in during high school & college'].astype(str))\n",
    "\n",
    "# texts is now a list of the responses to the question\n",
    "# This still needs to be cleaned because apparently there is a float in the mix\n",
    "texts = []\n",
    "for item in col:\n",
    "    if type(item) == str:\n",
    "        texts.append(item)\n",
    "    else:\n",
    "        texts.append('No Response')\n",
    "        \n",
    "        \n",
    "btexts = []\n",
    "for item in bcol:\n",
    "    if type(item) == str:\n",
    "        btexts.append(item)\n",
    "    else:\n",
    "        print()\n",
    "        \n",
    "print('Responses in texts:', len(texts))\n",
    "print('Responses in btexts:', len(btexts))"
   ]
  },
  {
   "cell_type": "code",
   "execution_count": 98,
   "metadata": {
    "Collapsed": "false"
   },
   "outputs": [
    {
     "name": "stdout",
     "output_type": "stream",
     "text": [
      "Items in word index:  1918\n",
      "Number of sequneces:  1189\n"
     ]
    }
   ],
   "source": [
    "toke = Tokenizer(oov_token='<OOV>')\n",
    "toke.fit_on_texts(texts)\n",
    "word_index = toke.word_index\n",
    "print(\"Items in word index: \",len(word_index))\n",
    "sequences = toke.texts_to_sequences(texts)\n",
    "print('Number of sequneces: ', len(sequences))\n",
    "padded_seq = pad_sequences(sequences, padding='post', maxlen=10)"
   ]
  },
  {
   "cell_type": "code",
   "execution_count": 99,
   "metadata": {
    "Collapsed": "false"
   },
   "outputs": [
    {
     "name": "stdout",
     "output_type": "stream",
     "text": [
      "Items in word index:  58\n",
      "Number of sequneces:  15\n"
     ]
    }
   ],
   "source": [
    "btoke = Tokenizer(oov_token='<OOV>')\n",
    "btoke.fit_on_texts(btexts)\n",
    "bword_index = btoke.word_index\n",
    "print(\"Items in word index: \",len(bword_index))\n",
    "bsequences = btoke.texts_to_sequences(btexts)\n",
    "print('Number of sequneces: ', len(bsequences))\n",
    "bpadded_seq = pad_sequences(bsequences, padding='post', maxlen=10)"
   ]
  },
  {
   "cell_type": "code",
   "execution_count": 107,
   "metadata": {
    "Collapsed": "false"
   },
   "outputs": [
    {
     "data": {
      "text/html": [
       "<div>\n",
       "<style scoped>\n",
       "    .dataframe tbody tr th:only-of-type {\n",
       "        vertical-align: middle;\n",
       "    }\n",
       "\n",
       "    .dataframe tbody tr th {\n",
       "        vertical-align: top;\n",
       "    }\n",
       "\n",
       "    .dataframe thead th {\n",
       "        text-align: right;\n",
       "    }\n",
       "</style>\n",
       "<table border=\"1\" class=\"dataframe\">\n",
       "  <thead>\n",
       "    <tr style=\"text-align: right;\">\n",
       "      <th></th>\n",
       "      <th>Unnamed: 0</th>\n",
       "      <th>First name</th>\n",
       "      <th>Last name</th>\n",
       "      <th>Home state</th>\n",
       "      <th>Year in school</th>\n",
       "      <th>Declared/projected major</th>\n",
       "      <th>Clubs, athletics, and hobbies participated in during high school &amp; college</th>\n",
       "      <th>sequence</th>\n",
       "    </tr>\n",
       "  </thead>\n",
       "  <tbody>\n",
       "    <tr>\n",
       "      <th>0</th>\n",
       "      <td>0</td>\n",
       "      <td>Nicholas</td>\n",
       "      <td>Zaruba-Walker</td>\n",
       "      <td>TX</td>\n",
       "      <td>Sophomore</td>\n",
       "      <td>Information Science</td>\n",
       "      <td>tennis, robotics, video games, ARK</td>\n",
       "      <td>[2, 8, 16, 3, 17, 0, 0, 0, 0, 0]</td>\n",
       "    </tr>\n",
       "    <tr>\n",
       "      <th>1</th>\n",
       "      <td>1</td>\n",
       "      <td>Nate</td>\n",
       "      <td>Ellis</td>\n",
       "      <td>California</td>\n",
       "      <td>Sophomore</td>\n",
       "      <td>Business</td>\n",
       "      <td>Hockey, lacrosse, business professionals of Am...</td>\n",
       "      <td>[18, 9, 19, 20, 21, 22, 23, 24, 25, 0]</td>\n",
       "    </tr>\n",
       "    <tr>\n",
       "      <th>2</th>\n",
       "      <td>2</td>\n",
       "      <td>Ryan</td>\n",
       "      <td>Fragomeni</td>\n",
       "      <td>Minnesota</td>\n",
       "      <td>Freshman</td>\n",
       "      <td>Electrical Engineering</td>\n",
       "      <td>Varsity Football, Track</td>\n",
       "      <td>[4, 10, 5, 0, 0, 0, 0, 0, 0, 0]</td>\n",
       "    </tr>\n",
       "    <tr>\n",
       "      <th>3</th>\n",
       "      <td>3</td>\n",
       "      <td>Teddy</td>\n",
       "      <td>Otterby</td>\n",
       "      <td>California</td>\n",
       "      <td>Sophomore</td>\n",
       "      <td>History</td>\n",
       "      <td>Football, smoking weed, partying</td>\n",
       "      <td>[10, 26, 27, 28, 0, 0, 0, 0, 0, 0]</td>\n",
       "    </tr>\n",
       "    <tr>\n",
       "      <th>4</th>\n",
       "      <td>4</td>\n",
       "      <td>Ethan</td>\n",
       "      <td>Cartisano</td>\n",
       "      <td>New York</td>\n",
       "      <td>NaN</td>\n",
       "      <td>NaN</td>\n",
       "      <td>NaN</td>\n",
       "      <td>[11, 0, 0, 0, 0, 0, 0, 0, 0, 0]</td>\n",
       "    </tr>\n",
       "  </tbody>\n",
       "</table>\n",
       "</div>"
      ],
      "text/plain": [
       "   Unnamed: 0 First name      Last name  Home state Year in school  \\\n",
       "0           0   Nicholas  Zaruba-Walker          TX      Sophomore   \n",
       "1           1       Nate          Ellis  California      Sophomore   \n",
       "2           2       Ryan      Fragomeni   Minnesota       Freshman   \n",
       "3           3      Teddy        Otterby  California      Sophomore   \n",
       "4           4      Ethan      Cartisano    New York            NaN   \n",
       "\n",
       "  Declared/projected major  \\\n",
       "0      Information Science   \n",
       "1                 Business   \n",
       "2   Electrical Engineering   \n",
       "3                 History    \n",
       "4                      NaN   \n",
       "\n",
       "  Clubs, athletics, and hobbies participated in during high school & college  \\\n",
       "0                 tennis, robotics, video games, ARK                           \n",
       "1  Hockey, lacrosse, business professionals of Am...                           \n",
       "2                            Varsity Football, Track                           \n",
       "3                   Football, smoking weed, partying                           \n",
       "4                                                NaN                           \n",
       "\n",
       "                                 sequence  \n",
       "0        [2, 8, 16, 3, 17, 0, 0, 0, 0, 0]  \n",
       "1  [18, 9, 19, 20, 21, 22, 23, 24, 25, 0]  \n",
       "2         [4, 10, 5, 0, 0, 0, 0, 0, 0, 0]  \n",
       "3      [10, 26, 27, 28, 0, 0, 0, 0, 0, 0]  \n",
       "4         [11, 0, 0, 0, 0, 0, 0, 0, 0, 0]  "
      ]
     },
     "execution_count": 107,
     "metadata": {},
     "output_type": "execute_result"
    }
   ],
   "source": [
    "df['sequence'] = list(padded_seq)\n",
    "bdf['sequence'] = list(bpadded_seq)"
   ]
  },
  {
   "cell_type": "code",
   "execution_count": 62,
   "metadata": {
    "Collapsed": "false"
   },
   "outputs": [
    {
     "name": "stdout",
     "output_type": "stream",
     "text": [
      "Varsity Baseball Captain, Varsity Soccer, Varsity Basketball Captain, Peace Alliance Club President, Skiing, \n",
      "[   5    7    5    8   53 1917 1918    2   40   36]\n"
     ]
    }
   ],
   "source": [
    "t = 1183\n",
    "print(df.iloc[t]['Clubs, athletics, and activities participated in during high school & college'])\n",
    "print(padded_seq[t])"
   ]
  },
  {
   "cell_type": "code",
   "execution_count": 111,
   "metadata": {
    "Collapsed": "false"
   },
   "outputs": [
    {
     "data": {
      "text/plain": [
       "'varsity'"
      ]
     },
     "execution_count": 111,
     "metadata": {},
     "output_type": "execute_result"
    }
   ],
   "source": [
    "reverse_word_index = dict((v,k) for k,v in word_index.items())\n",
    "breverse_word_index = dict((v,k) for k,v in bword_index.items())\n",
    "breverse_word_index[4]"
   ]
  },
  {
   "cell_type": "code",
   "execution_count": 77,
   "metadata": {
    "Collapsed": "false"
   },
   "outputs": [
    {
     "data": {
      "text/plain": [
       "{'1': '2', '3': '4'}"
      ]
     },
     "execution_count": 77,
     "metadata": {},
     "output_type": "execute_result"
    }
   ],
   "source": [
    "dict(('12','34'))"
   ]
  },
  {
   "cell_type": "code",
   "execution_count": 84,
   "metadata": {
    "Collapsed": "false"
   },
   "outputs": [],
   "source": [
    "import math\n",
    "# compute the magnitude of a vector with arbitrary dimensions\n",
    "def magnitude(v):\n",
    "    total = 0\n",
    "    for i in range(len(v)):\n",
    "        total += v[i]**2\n",
    "    return math.sqrt(total)\n",
    "\n",
    "\n",
    "# dot product of an aribtrary vector\n",
    "def dot_product(v, w):\n",
    "    total = 0\n",
    "    for i in range(len(w)):\n",
    "        total += v[i]*w[i]\n",
    "    return total\n",
    "\n",
    "\n",
    "# compute the cosine similarity \n",
    "def cos_similarity(v, w):\n",
    "    numerator = dot_product(v,w)\n",
    "    denominator = magnitude(v) * magnitude(w)\n",
    "    return numerator/denominator"
   ]
  },
  {
   "cell_type": "code",
   "execution_count": null,
   "metadata": {
    "Collapsed": "false"
   },
   "outputs": [],
   "source": []
  }
 ],
 "metadata": {
  "kernelspec": {
   "display_name": "Python 3",
   "language": "python",
   "name": "python3"
  },
  "language_info": {
   "codemirror_mode": {
    "name": "ipython",
    "version": 3
   },
   "file_extension": ".py",
   "mimetype": "text/x-python",
   "name": "python",
   "nbconvert_exporter": "python",
   "pygments_lexer": "ipython3",
   "version": "3.7.6"
  }
 },
 "nbformat": 4,
 "nbformat_minor": 4
}
